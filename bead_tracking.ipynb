{
 "cells": [
  {
   "cell_type": "code",
   "execution_count": 552,
   "id": "26d2da0e",
   "metadata": {},
   "outputs": [],
   "source": [
    "%matplotlib inline\n",
    "import re\n",
    "import numpy as np\n",
    "import matplotlib.pyplot as plt\n",
    "from PIL import Image,ImageOps\n",
    "from numpy.fft import fft2, ifft2, fftshift, ifftshift\n",
    "import scipy\n",
    "from scipy.integrate import simps\n",
    "from mpl_toolkits.axes_grid1 import make_axes_locatable\n",
    "from mpl_toolkits.mplot3d import Axes3D\n",
    "from skimage.restoration import unwrap_phase\n",
    "from skimage import color, exposure\n",
    "from tifffile import imread, imwrite\n",
    "from skimage.transform import resize\n",
    "import os\n",
    "#from phase_unwrap import phase_unwrap, _wrapToPi\n",
    "\n",
    "#plt.style.use('dark_background')\n",
    "\n",
    "\n",
    "#from phase_unwrap import *"
   ]
  },
  {
   "cell_type": "code",
   "execution_count": 553,
   "id": "75d053a2",
   "metadata": {},
   "outputs": [],
   "source": [
    "def natural_sort_key(s, _nsre=re.compile('([0-9]+)')):\n",
    "    return [\n",
    "        int(text)\n",
    "        if text.isdigit() else text.lower()\n",
    "        for text in _nsre.split(s)]\n"
   ]
  },
  {
   "cell_type": "code",
   "execution_count": 554,
   "id": "a7231406",
   "metadata": {},
   "outputs": [],
   "source": [
    "# Load image into Python\n",
    "def load_img(addpath):\n",
    "    # Images with neutral density filter\n",
    "    #addpath = \"D://bets_images//01.03.23._20.02//01.03.23._20.19//02.24.23._16.18//\"\n",
    "\n",
    "    # Images with no neutral density filter\n",
    "    # addpath = ('/Users/charlyk/Desktop/PhD/work/Images/04.21.23._22.18/No_ND/')\n",
    "    sorted_images = sorted(os.listdir(addpath), key=natural_sort_key)\n",
    "    # Load the RGB hologram image\n",
    "    #img = Image.open(addpath+'img.tif').convert(\"L\")\n",
    "    images=[]\n",
    "    for i,frame in enumerate(sorted_images[307:337]):\n",
    "        img = Image.open(addpath+frame )\n",
    "        if (i+1) < len(sorted_images):\n",
    "            #width, height = img.size\n",
    "            ref = Image.open(addpath+ sorted_images[i+1])\n",
    "            #ref=ImageOps.fit(ref, (1080,720), Image.Resampling.LANCZOS)\n",
    "    \n",
    "\n",
    "            # Convert the RGB image to grayscale\n",
    "            # gray_image = rgb_image.convert(\"L\")\n",
    "            img = img.convert(\"L\")\n",
    "            ref = ref.convert(\"L\")\n",
    "\n",
    "            # Convert the image to a NumPy array\n",
    "            img = np.asarray(img)/255                  # convert the images into array\n",
    "            ref = np.asarray(ref)/255\n",
    "            \n",
    "            img = img[914:990,297:417]\n",
    "            ref = ref[914:990,297:417]\n",
    "            \n",
    "            imgH = (img - ref) #/ (np.sqrt(ref))\n",
    "            Ny,Nx = imgH.shape\n",
    "\n",
    "            Lambda = 530e-9            # wavelength of the light source\n",
    "            k = 2*np.pi/Lambda         # wavenumber\n",
    "            dx = 1.55e-6               # pixel size of the camera in the x-coord\n",
    "            dy = dx\n",
    "            UpsampleFactor = 2\n",
    "\n",
    "            # Define the spatial and frequency/spectral sampling intervals and coords\n",
    "            nx = np.arange((-Nx/2),(Nx/2) , dtype = float)\n",
    "            ny = np.arange((-Ny/2),(Ny/2) , dtype = float)\n",
    "\n",
    "            # Spatial sampling\n",
    "            x = nx*dx\n",
    "            y = ny*dy\n",
    "\n",
    "            X, Y = np.meshgrid(x,y)\n",
    "            # Frequency sampling\n",
    "            dfx = 1/(Nx *dx)\n",
    "            dfy = 1/(Ny *dy)\n",
    "\n",
    "            fx = nx*dfx\n",
    "            fy = ny*dfy\n",
    "            Fx,Fy = np.meshgrid(fx,fy)\n",
    "\n",
    "            d1 = 1e-5\n",
    "            FimgH = fftshift(fft2(imgH))\n",
    "            prop1 = np.exp((1j*2*np.pi*d1)*np.sqrt((1/(Lambda**2)) - Fx**2 - Fy**2))\n",
    "            t1 = (ifft2(fftshift(FimgH*prop1)))\n",
    "            amp = (abs(t1))                   # amplitude\n",
    "\n",
    "            images.append(amp**2)\n",
    "            \n",
    "    \n",
    "\n",
    "            #plt.imshow(img)\n",
    "    return images\n",
    "    "
   ]
  },
  {
   "cell_type": "code",
   "execution_count": 555,
   "id": "146e9f71",
   "metadata": {},
   "outputs": [],
   "source": [
    "path=\"C://Users//kande//OneDrive//Desktop//Particle_trac//frame//09_20_2023//\"\n",
    "# # img,ref=load_img(path)\n",
    "# import re\n",
    "# # plt.imshow(img)\n",
    "# my_list=os.listdir(path)\n",
    "# def natural_sort_key(s, _nsre=re.compile('([0-9]+)')):\n",
    "#     return [\n",
    "#         int(text)\n",
    "#         if text.isdigit() else text.lower()\n",
    "#         for text in _nsre.split(s)]\n",
    "\n",
    "# sorted_images = sorted(my_list, key=natural_sort_key)\n",
    "\n",
    "\n",
    "# print(sorted_images)"
   ]
  },
  {
   "cell_type": "code",
   "execution_count": 556,
   "id": "c1827622",
   "metadata": {},
   "outputs": [
    {
     "name": "stdout",
     "output_type": "stream",
     "text": [
      "30\n"
     ]
    }
   ],
   "source": [
    "imagelist=load_img(path)\n",
    "\n",
    "\n",
    "\n",
    "\n",
    "\n",
    "print(len(imagelist))\n",
    "\n",
    "\n"
   ]
  },
  {
   "cell_type": "code",
   "execution_count": 557,
   "id": "3065aa96",
   "metadata": {},
   "outputs": [
    {
     "data": {
      "image/png": "[encoded data removed]",
      "text/plain": [
       "<Figure size 640x480 with 1 Axes>"
      ]
     },
     "metadata": {},
     "output_type": "display_data"
    }
   ],
   "source": [
    "plt.imshow(imagelist[0]-imagelist[29],cmap='gray')\n",
    "plt.title('Position after one second')\n",
    "#plt.savefig('First two second ')\n",
    "\n",
    "plt.show()"
   ]
  },
  {
   "cell_type": "code",
   "execution_count": 558,
   "id": "0abdff99",
   "metadata": {},
   "outputs": [
    {
     "data": {
      "text/plain": [
       "Text(0.5, 1.0, 'Intensity of a single frame')"
      ]
     },
     "execution_count": 558,
     "metadata": {},
     "output_type": "execute_result"
    },
    {
     "data": {
      "image/png": "[encoded data removed]",
      "text/plain": [
       "<Figure size 640x480 with 1 Axes>"
      ]
     },
     "metadata": {},
     "output_type": "display_data"
    }
   ],
   "source": [
    "plt.imshow(imagelist[0])\n",
    "plt.title(\"Intensity of a single frame\")\n",
    "#plt.savefig('Intensity ')"
   ]
  },
  {
   "cell_type": "code",
   "execution_count": 559,
   "id": "9025a828",
   "metadata": {},
   "outputs": [],
   "source": [
    "import cv2\n",
    "import numpy as np\n",
    "\n",
    "\n",
    "# Define the output file name and properties\n",
    "output_file = 'output_movie.mp4'\n",
    "fps = 10.0\n",
    "\n",
    "# Define the codec and create a VideoWriter object\n",
    "fourcc = cv2.VideoWriter_fourcc(*'mp4v')\n",
    "out = cv2.VideoWriter(output_file, fourcc, fps, (200, 200))\n",
    "\n",
    "# Write each frame to the video file\n",
    "for frame in imagelist:\n",
    "    out.write(frame)\n",
    "\n",
    "# Release the VideoWriter object and close the file\n",
    "out.release()\n"
   ]
  },
  {
   "cell_type": "code",
   "execution_count": 560,
   "id": "0f12f930",
   "metadata": {},
   "outputs": [
    {
     "ename": "IndexError",
     "evalue": "list index out of range",
     "output_type": "error",
     "traceback": [
      "\u001b[1;31m---------------------------------------------------------------------------\u001b[0m",
      "\u001b[1;31mIndexError\u001b[0m                                Traceback (most recent call last)",
      "Cell \u001b[1;32mIn[560], line 2\u001b[0m\n\u001b[0;32m      1\u001b[0m \u001b[38;5;66;03m#%matplotlib tk\u001b[39;00m\n\u001b[1;32m----> 2\u001b[0m plt\u001b[38;5;241m.\u001b[39mimshow(\u001b[43mimagelist\u001b[49m\u001b[43m[\u001b[49m\u001b[38;5;241;43m30\u001b[39;49m\u001b[43m]\u001b[49m)\n",
      "\u001b[1;31mIndexError\u001b[0m: list index out of range"
     ]
    }
   ],
   "source": [
    "#%matplotlib tk\n",
    "plt.imshow(imagelist[30])"
   ]
  },
  {
   "cell_type": "code",
   "execution_count": 561,
   "id": "4e84d973",
   "metadata": {},
   "outputs": [],
   "source": [
    "# import time\n",
    "# fig, ax = plt.subplots(1, 1)\n",
    "\n",
    "# # Display the arrays one by one with a time delay\n",
    "\n",
    "# for i in range(len(imagelist)):\n",
    "#     ax.imshow(imagelist[i], cmap='gray')\n",
    "#     ax.set_title('Array '+str(i))\n",
    "#     plt.show()\n",
    "#     time.sleep(1)\n",
    "\n",
    "# # ax.imshow(imagelist[5], cmap='gray')\n",
    "# # ax.set_title('Array 2')\n",
    "# # plt.show()\n",
    "# # time.sleep(1)\n",
    "\n",
    "# # ax.imshow(imagelist[10], cmap='gray')\n",
    "# # ax.set_title('Array 3')\n",
    "# # plt.show()"
   ]
  },
  {
   "cell_type": "code",
   "execution_count": 562,
   "id": "7461dd89",
   "metadata": {},
   "outputs": [],
   "source": [
    "# from matplotlib.animation import FuncAnimation, FFMpegWriter\n",
    "\n",
    "# fig, ax = plt.subplots()\n",
    "\n",
    "# def animate(i):\n",
    "      \n",
    "#     if i >= 0:\n",
    "#         #ax.cla()\n",
    "#         ax.imshow(imagelist[i])\n",
    "# nsteps=11\n",
    "\n",
    "\n",
    "# simulation = FuncAnimation(fig, animate, frames = nsteps, repeat = False)\n",
    "\n",
    "\n",
    "\n",
    "\n",
    "# from IPython.display import HTML\n",
    "# HTML(simulation.to_jshtml())\n",
    "\n",
    "# # simulation.save('animation.mp4', writer='ffmpeg')\n"
   ]
  },
  {
   "cell_type": "code",
   "execution_count": 563,
   "id": "d5dd5f33",
   "metadata": {},
   "outputs": [],
   "source": [
    "# import cv2\n",
    "# import numpy as np\n",
    "\n",
    "# # Read the image\n",
    "# image = cv2.imread('image.jpg')\n",
    "\n",
    "# # Find the location of the maximum pixel value\n",
    "# max_index = np.unravel_index(np.argmax(imagelist[4]), imagelist[4].shape)\n",
    "\n",
    "# # Convert the maximum index to integers\n",
    "# max_index = tuple(map(int, max_index))\n",
    "\n",
    "# # Draw a circle around the maximum pixel\n",
    "# radius = 10\n",
    "# color = (0, 0, 255)  # Red color (BGR)\n",
    "# thickness = 2\n",
    "# cv2.circle(imagelist[4], max_index, radius, color, thickness)\n",
    "\n",
    "# # Display the image with the circle\n",
    "# cv2.imshow('Image with Circle', image)\n",
    "# cv2.waitKey(0)\n",
    "# cv2.destroyAllWindows()\n"
   ]
  },
  {
   "cell_type": "code",
   "execution_count": null,
   "id": "1f752337",
   "metadata": {},
   "outputs": [],
   "source": []
  },
  {
   "cell_type": "code",
   "execution_count": 564,
   "id": "c3377941",
   "metadata": {},
   "outputs": [],
   "source": [
    "# import pyDigitalHolography as dh\n",
    "\n",
    "# # Load digital hologram\n",
    "# holo = dh.load_hologram('digital_hologram.tif')\n",
    "\n",
    "# # Reconstruct the complex field\n",
    "# field = holo.reconstruct()\n",
    "\n",
    "# # Perform particle detection\n",
    "# particles = dh.detect_particles(field)\n",
    "\n",
    "# # Perform particle tracking\n",
    "# tracks = dh.track_particles(particles)\n",
    "\n",
    "# # Plot particle tracks\n",
    "# dh.plot_tracks(tracks)\n"
   ]
  },
  {
   "cell_type": "code",
   "execution_count": null,
   "id": "ffbf79c5",
   "metadata": {},
   "outputs": [],
   "source": []
  },
  {
   "cell_type": "code",
   "execution_count": 565,
   "id": "8d46579c",
   "metadata": {},
   "outputs": [
    {
     "name": "stdout",
     "output_type": "stream",
     "text": [
      "frame_90.tif\n"
     ]
    }
   ],
   "source": [
    "\n",
    "sorted_images = sorted(os.listdir(path), key=natural_sort_key)\n",
    "\n",
    "print(sorted_images[44])"
   ]
  },
  {
   "cell_type": "code",
   "execution_count": 566,
   "id": "af854322",
   "metadata": {},
   "outputs": [
    {
     "name": "stdout",
     "output_type": "stream",
     "text": [
      "Centroid coordinates: (87, 27)\n"
     ]
    }
   ],
   "source": [
    "\n",
    "import cv2\n",
    "import numpy as np\n",
    "\n",
    "def find_image_centroid(image):\n",
    "    # Read the image using OpenCV\n",
    "    #image = cv2.imread(image_path)\n",
    "\n",
    "    # Calculate the moments of the image\n",
    "    moments = cv2.moments(image)\n",
    "\n",
    "    # Calculate the centroid\n",
    "    centroid_x = int(moments[\"m10\"] / moments[\"m00\"])\n",
    "    centroid_y = int(moments[\"m01\"] / moments[\"m00\"])\n",
    "\n",
    "    return centroid_x, centroid_y\n",
    "\n",
    "# Replace 'image.jpg' with the path to your image file\n",
    "#image_path = 'image.jpg'\n",
    "centroid = find_image_centroid(imagelist[1])\n",
    "print(\"Centroid coordinates:\", centroid)\n"
   ]
  },
  {
   "cell_type": "code",
   "execution_count": 567,
   "id": "0598774a",
   "metadata": {},
   "outputs": [
    {
     "name": "stderr",
     "output_type": "stream",
     "text": [
      "No artists with labels found to put in legend.  Note that artists whose label start with an underscore are ignored when legend() is called with no argument.\n"
     ]
    },
    {
     "name": "stdout",
     "output_type": "stream",
     "text": [
      "Initial position:(88, 27) \n",
      " Final position:(58, 37)\n",
      "[88, 87, 88, 87, 86, 85, 84, 82, 81, 80, 79, 78, 76, 76, 75, 74, 72, 71, 70, 69, 68, 67, 66, 65, 64, 63, 61, 60, 59, 58]\n",
      "[27, 27, 27, 27, 28, 28, 29, 29, 29, 30, 30, 31, 31, 32, 32, 32, 33, 33, 33, 34, 34, 34, 35, 35, 36, 36, 36, 37, 37, 37]\n"
     ]
    },
    {
     "data": {
      "image/png": "[encoded data removed]",
      "text/plain": [
       "<Figure size 640x480 with 1 Axes>"
      ]
     },
     "metadata": {},
     "output_type": "display_data"
    }
   ],
   "source": [
    "\n",
    "X=[]\n",
    "Y=[]\n",
    "for img in imagelist:\n",
    "    centroid = find_image_centroid(img)\n",
    "    X.append(centroid[0])\n",
    "    Y.append(centroid[1])\n",
    "fig, ax = plt.subplots()    \n",
    "ax.plot(X,Y,linewidth=.5)\n",
    "# ax.plot(X1,Y1,linewidth=.5 ,label=\"1st\")\n",
    "# ax.plot(X2,Y2,linewidth=.5,label=\"2nd\")\n",
    "# ax.plot(X3,Y3,linewidth=.5,label=\"3rd\")\n",
    "ax.set_xlim(0,300)\n",
    "ax.set_ylim(0,170)\n",
    "ax.set_ylabel('Y')\n",
    "ax.set_xlabel('X')\n",
    "ax.legend()\n",
    "ax.invert_yaxis()\n",
    "\n",
    "\n",
    "\n",
    "plt.title(\"Trajectory of  Beads\")\n",
    "#plt.show()\n",
    "#plt.savefig(\"Trajectory(30_frame_diff)\")\n",
    "\n",
    "print(f'Initial position:{(X[0],Y[0])} \\n Final position:{(X[-1],Y[-1])}')\n",
    "#print(f'Speed:{np.sqrt((X[0]-Y[0])^2 +(X[-1]-Y[-1])^2)/34.2*1.55}')\n",
    "print(X)\n",
    "print(Y)"
   ]
  },
  {
   "cell_type": "code",
   "execution_count": 568,
   "id": "70cd5ae6",
   "metadata": {},
   "outputs": [],
   "source": [
    "#first\n",
    "a1=[141, 143, 145, 145, 144, 143, 142, 142, 141, 140, 139, 138, 136, 135, 134, 133, 132, 130, 129, 128, 127, 126, 125, 123, 122, 121, 120, 119, 117, 116]\n",
    "b1=[52, 53, 53, 54, 54, 54, 55, 55, 55, 56, 56, 56, 57, 57, 57, 57, 58, 58, 58, 58, 59, 59, 59, 60, 60, 60, 61, 61, 61, 62]\n",
    "X1=[x-73 for x in a1]\n",
    "Y1=[x-15 for x in b1]"
   ]
  },
  {
   "cell_type": "code",
   "execution_count": 569,
   "id": "c7b608ae",
   "metadata": {},
   "outputs": [],
   "source": [
    "#second\n",
    "X2=[81, 79, 77, 75, 73, 71, 68, 66, 64, 62, 60, 58, 56, 54, 51, 49, 47, 45, 43, 41, 39, 37, 34, 32, 30, 28, 26, 24, 22, 20] \n",
    "Y2=[40, 40, 40, 40, 40, 40, 40, 40, 40, 41, 40, 40, 40, 40, 41, 41, 41, 41, 41, 41, 41, 41, 41, 41, 41, 41, 41, 41, 41, 41]\n"
   ]
  },
  {
   "cell_type": "code",
   "execution_count": 570,
   "id": "4510f632",
   "metadata": {},
   "outputs": [],
   "source": [
    "#Third paarticle\n",
    "\n",
    "a3=[88, 87, 88, 87, 86, 85, 84, 82, 81, 80, 79, 78, 76, 76, 75, 74, 72, 71, 70, 69, 68, 67, 66, 65, 64, 63, 61, 60, 59, 58] \n",
    "b3=[27, 27, 27, 27, 28, 28, 29, 29, 29, 30, 30, 31, 31, 32, 32, 32, 33, 33, 33, 34, 34, 34, 35, 35, 36, 36, 36, 37, 37, 37]\n",
    "X3=[x-0 for x in a3]\n",
    "Y3=[x+6 for x in b3]"
   ]
  },
  {
   "cell_type": "code",
   "execution_count": null,
   "id": "0ce8450a",
   "metadata": {},
   "outputs": [],
   "source": []
  },
  {
   "cell_type": "code",
   "execution_count": 572,
   "id": "8b03fa05",
   "metadata": {},
   "outputs": [
    {
     "name": "stdout",
     "output_type": "stream",
     "text": [
      "Initial position:(88, 27) \n",
      " Final position:(58, 37)\n",
      "[88, 87, 88, 87, 86, 85, 84, 82, 81, 80, 79, 78, 76, 76, 75, 74, 72, 71, 70, 69, 68, 67, 66, 65, 64, 63, 61, 60, 59, 58]\n",
      "[27, 27, 27, 27, 28, 28, 29, 29, 29, 30, 30, 31, 31, 32, 32, 32, 33, 33, 33, 34, 34, 34, 35, 35, 36, 36, 36, 37, 37, 37]\n"
     ]
    },
    {
     "data": {
      "image/png": "[encoded data removed]",
      "text/plain": [
       "<Figure size 640x480 with 1 Axes>"
      ]
     },
     "metadata": {},
     "output_type": "display_data"
    }
   ],
   "source": [
    "\n",
    "X=[]\n",
    "Y=[]\n",
    "for img in imagelist:\n",
    "    centroid = find_image_centroid(img)\n",
    "    X.append(centroid[0])\n",
    "    Y.append(centroid[1])\n",
    "fig, ax = plt.subplots()    \n",
    "#ax.plot(X,Y,linewidth=.5)\n",
    "ax.plot(X1,Y1,linewidth=.5 ,label=\"1st\")\n",
    "ax.plot(X2,Y2,linewidth=.5,label=\"2nd\")\n",
    "ax.plot(X3,Y3,linewidth=.5,label=\"3rd\")\n",
    "ax.set_xlim(0,300)\n",
    "ax.set_ylim(0,170)\n",
    "ax.set_ylabel('Y')\n",
    "ax.set_xlabel('X')\n",
    "ax.legend()\n",
    "ax.invert_yaxis()\n",
    "\n",
    "\n",
    "\n",
    "plt.title(\"Trajectory of  Beads\")\n",
    "#plt.show()\n",
    "plt.savefig(\"2Nd_Trajectory(30_frame_diff)\")\n",
    "\n",
    "print(f'Initial position:{(X[0],Y[0])} \\n Final position:{(X[-1],Y[-1])}')\n",
    "#print(f'Speed:{np.sqrt((X[0]-Y[0])^2 +(X[-1]-Y[-1])^2)/34.2*1.55}')\n",
    "print(X)\n",
    "print(Y)"
   ]
  },
  {
   "cell_type": "code",
   "execution_count": null,
   "id": "94cb2ed3",
   "metadata": {},
   "outputs": [],
   "source": []
  },
  {
   "cell_type": "code",
   "execution_count": null,
   "id": "5974b622",
   "metadata": {},
   "outputs": [],
   "source": []
  },
  {
   "cell_type": "markdown",
   "id": "42e41ba9",
   "metadata": {},
   "source": [
    "## first particle\n",
    "Initial position:(273, 72) \n",
    "Final position:(261, 77)\n",
    "[273, 279, 287, 284, 280, 278, 277, 281, 280, 280, 279, 277, 275, 273, 273, 273, 271, 269, 269, 267, 269, 269, 268, 268, 266, 266, 266, 265, 263, 260, 261]\n",
    "[72, 71, 69, 70, 71, 71, 71, 70, 70, 71, 70, 71, 72, 72, 73, 73, 73, 73, 74, 74, 74, 74, 75, 75, 76, 76, 76, 76, 76, 77, 77]"
   ]
  },
  {
   "cell_type": "code",
   "execution_count": 341,
   "id": "edbacb11",
   "metadata": {},
   "outputs": [],
   "source": [
    "a1=[273, 279, 287, 284, 280, 278, 277, 281, 280, 280, 279, 277, 275, 273, 273, 273, 271, 269, 269, 267, 269, 269, 268, 268, 266, 266, 266, 265, 263, 260, 261]\n",
    "b1=[72, 71, 69, 70, 71, 71, 71, 70, 70, 71, 70, 71, 72, 72, 73, 73, 73, 73, 74, 74, 74, 74, 75, 75, 76, 76, 76, 76, 76, 77, 77]"
   ]
  },
  {
   "cell_type": "code",
   "execution_count": 342,
   "id": "c9f29664",
   "metadata": {},
   "outputs": [],
   "source": [
    "X1=[x-132 for x in a1]\n",
    "Y1=[x-30 for x in b1]"
   ]
  },
  {
   "cell_type": "markdown",
   "id": "8b7b2ff3",
   "metadata": {},
   "source": [
    "## second particle\n",
    "Initial position:(185, 76) \n",
    "Final position:(114, 99)\n",
    "[185, 185, 183, 180, 178, 175, 173, 171, 168, 166, 163, 161, 158, 156, 153, 151, 148, 146, 143, 141, 138, 136, 133, 131, 128, 126, 123, 121, 119, 116, 114]\n",
    "[76, 77, 77, 78, 79, 80, 80, 81, 82, 83, 84, 84, 85, 86, 87, 87, 88, 89, 90, 90, 91, 92, 93, 93, 94, 95, 96, 96, 97, 98, 99]"
   ]
  },
  {
   "cell_type": "markdown",
   "id": "4819102d",
   "metadata": {},
   "source": [
    "## Third particles\n",
    "Initial position:(206, 29) \n",
    "Final position:(169, 46)\n",
    "[206, 207, 207, 206, 205, 203, 202, 201, 200, 199, 197, 195, 194, 193, 192, 190, 189, 187, 186, 184, 182, 181, 180, 178, 177, 176, 174, 173, 172, 170, 169]\n",
    "[29, 29, 28, 29, 30, 30, 31, 31, 32, 32, 33, 34, 35, 35, 36, 36, 37, 38, 38, 39, 40, 40, 41, 42, 42, 43, 44, 44, 45, 45, 46]"
   ]
  },
  {
   "cell_type": "markdown",
   "id": "2de703f1",
   "metadata": {},
   "source": [
    "## 2 first particle\n",
    "Initial position:(141, 52) \n",
    "Final position:(116, 62)\n",
    "[141, 143, 145, 145, 144, 143, 142, 142, 141, 140, 139, 138, 136, 135, 134, 133, 132, 130, 129, 128, 127, 126, 125, 123, 122, 121, 120, 119, 117, 116]\n",
    "[52, 53, 53, 54, 54, 54, 55, 55, 55, 56, 56, 56, 57, 57, 57, 57, 58, 58, 58, 58, 59, 59, 59, 60, 60, 60, 61, 61, 61, 62]\n"
   ]
  },
  {
   "cell_type": "markdown",
   "id": "a85c7a59",
   "metadata": {},
   "source": [
    "## 2 second particle\n",
    "Initial position:(81, 40) \n",
    "Final position:(20, 41)\n",
    "[81, 79, 77, 75, 73, 71, 68, 66, 64, 62, 60, 58, 56, 54, 51, 49, 47, 45, 43, 41, 39, 37, 34, 32, 30, 28, 26, 24, 22, 20]\n",
    "[40, 40, 40, 40, 40, 40, 40, 40, 40, 41, 40, 40, 40, 40, 41, 41, 41, 41, 41, 41, 41, 41, 41, 41, 41, 41, 41, 41, 41, 41]"
   ]
  },
  {
   "cell_type": "markdown",
   "id": "b0bb8f4b",
   "metadata": {},
   "source": [
    "## 3 Third particle\n",
    "Initial position:(88, 27) \n",
    "Final position:(58, 37)\n",
    "[88, 87, 88, 87, 86, 85, 84, 82, 81, 80, 79, 78, 76, 76, 75, 74, 72, 71, 70, 69, 68, 67, 66, 65, 64, 63, 61, 60, 59, 58]\n",
    "[27, 27, 27, 27, 28, 28, 29, 29, 29, 30, 30, 31, 31, 32, 32, 32, 33, 33, 33, 34, 34, 34, 35, 35, 36, 36, 36, 37, 37, 37]"
   ]
  },
  {
   "cell_type": "code",
   "execution_count": 12,
   "id": "239d73d3",
   "metadata": {},
   "outputs": [
    {
     "name": "stdout",
     "output_type": "stream",
     "text": [
      "Speed:nan\n"
     ]
    },
    {
     "name": "stderr",
     "output_type": "stream",
     "text": [
      "C:\\Users\\kande\\AppData\\Local\\Temp\\ipykernel_18928\\2566022245.py:4: RuntimeWarning: invalid value encountered in sqrt\n",
      "  print(f'Speed:{np.sqrt((185-114)^2 +(86-99)^2)/1}')\n"
     ]
    }
   ],
   "source": [
    "import numpy as np\n",
    "\n",
    "\n",
    "print(f'Speed:{np.sqrt((185-114)^2 +(86-99)^2)/1}')"
   ]
  },
  {
   "cell_type": "code",
   "execution_count": 26,
   "id": "f5bd5ada",
   "metadata": {},
   "outputs": [
    {
     "name": "stdout",
     "output_type": "stream",
     "text": [
      "Speed:4.0\n"
     ]
    }
   ],
   "source": [
    "print(f'Speed:{np.sqrt((88-58)^2 +(37-27)^2)/1}')"
   ]
  },
  {
   "cell_type": "code",
   "execution_count": null,
   "id": "65a7805d",
   "metadata": {},
   "outputs": [],
   "source": []
  }
 ],
 "metadata": {
  "kernelspec": {
   "display_name": "Python 3 (ipykernel)",
   "language": "python",
   "name": "python3"
  },
  "language_info": {
   "codemirror_mode": {
    "name": "ipython",
    "version": 3
   },
   "file_extension": ".py",
   "mimetype": "text/x-python",
   "name": "python",
   "nbconvert_exporter": "python",
   "pygments_lexer": "ipython3",
   "version": "3.9.13"
  }
 },
 "nbformat": 4,
 "nbformat_minor": 5
}
